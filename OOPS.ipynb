{
  "nbformat": 4,
  "nbformat_minor": 0,
  "metadata": {
    "colab": {
      "provenance": []
    },
    "kernelspec": {
      "name": "python3",
      "display_name": "Python 3"
    },
    "language_info": {
      "name": "python"
    }
  },
  "cells": [
    {
      "cell_type": "markdown",
      "source": [
        " 1. What is Object-Oriented Programming (OOP)?\n",
        "\n",
        " -> Object-Oriented Programming (OOP) is a programming paradigm that revolves around the concept of objects and classes. It's a way of designing and organizing code that simulates real-world objects and systems.\n",
        "\n",
        " -> BASIC OOPS CONCEPTS :-\n",
        "\n",
        "\n",
        "*  Class: A blueprint or template that defines the properties and behavior of an object.\n",
        "*  Object: An instance of a class, which has its own set of attributes (data) and methods (functions).\n",
        "\n",
        "*   Attributes: Data members of a class or object, which describe its characteristics.\n",
        "*  Methods: Functions that belong to a class or object, which perform specific actions.\n",
        "\n",
        "\n",
        "\n"
      ],
      "metadata": {
        "id": "74iwVej1SDhK"
      }
    },
    {
      "cell_type": "markdown",
      "source": [
        "2. What is a class in OOP ?\n",
        "\n",
        "-> In Object-Oriented Programming (OOP), a class is a blueprint or template that defines the properties and behavior of an object. A class is essentially a design pattern or a template that defines the characteristics and actions of an object.\n",
        "\n",
        "-> Key component in a class:\n",
        "\n",
        "\n",
        "*  Properties (also known as attributes or data members): These are the data variables that are defined inside the class. Properties can be of any data type, such as integers, strings, or objects.\n",
        "\n",
        "*   Methods (also known as functions or procedures): These are the actions that can be performed on an object. Methods can be used to manipulate the properties of an object, perform calculations, or interact with other objects.\n",
        "*   Constructors: These are special methods that are used to initialize the properties of an object when it is created.\n",
        "\n",
        "\n",
        "*   Access Modifiers: These are keywords that determine the accessibility of a class, property, or method.\n",
        "\n"
      ],
      "metadata": {
        "id": "YZqQYWUoTMOi"
      }
    },
    {
      "cell_type": "markdown",
      "source": [
        "3. What is an object in OOP ?\n",
        "->In Object-Oriented Programming (OOP), an object is an instance of a class, which represents a real-world entity or concept. An object has its own set of attributes (data) and methods (functions) that describe its characteristics and behavior.\n",
        "\n",
        "-> Characteristics of an object :-\n",
        "\n",
        "*   State: An object has its own state, which is defined by its attributes.\n",
        "*   Behavior: An object has its own behavior, which is defined by its methods.\n",
        "*   Identity: Each object has its own unique identity, which distinguishes it from other objects.\n",
        "*   Autonomy: An object can operate independently, without affecting other objects.\n",
        "\n",
        "\n",
        "\n"
      ],
      "metadata": {
        "id": "PG6sH4xrUBtj"
      }
    },
    {
      "cell_type": "markdown",
      "source": [
        "4. What is the difference between abstraction and encapsulation ?\n",
        "\n",
        "->  Abstraction and encapsulation are two fundamental concepts in object-oriented programming (OOP) that are often confused with each other. While they are related, they serve different purposes and have distinct characteristics.\n",
        "\n",
        "-> ABSTRACTION :-  \n",
        "-> Abstraction is the process of exposing only the necessary information about an object or system while hiding the implementation details. It's about defining an interface or a contract that specifies how to interact with an object without revealing how it works internally.\n",
        "\n",
        "-> Abstraction helps to:\n",
        "*   Reduce complexity by focusing on essential features\n",
        "*   Improve modularity by separating concerns\n",
        "*  Enhance flexibility by allowing for different implementations\n",
        "\n",
        "-> Example: A car's transmission system is an abstraction. We don't need to know how the gears work or how the transmission is implemented.We  only need to know how to interact with it (e.g., shift gears, accelerate).\n",
        "\n",
        "-> ENCAPSULATION :-  \n",
        "\n",
        "-> Encapsulation is the process of bundling data and methods that operate on that data within a single unit, called a class or object. It's about hiding the internal state of an object from the outside world and only exposing a public interface through which other objects can interact with it.\n",
        "\n",
        "-> Encapsulation helps to:\n",
        "\n",
        "*   Protect data from external interference or misuse\n",
        "\n",
        "*  Improve code organization and structure\n",
        "*   Enhance security by controlling access to sensitive data\n",
        "\n",
        "-> Example: A bank account object encapsulates the account balance and methods to deposit, withdraw, or check the balance. The internal state of the account (the balance) is hidden from the outside world, and only the public methods are exposed to interact with the account.\n",
        "\n",
        "\n",
        "-> KEY DIFFERENCE :-  \n",
        "\n",
        "\n",
        "\n",
        "*  Purpose: Abstraction focuses on exposing a simplified interface, while encapsulation focuses on hiding internal implementation details and protecting data.\n",
        "\n",
        "*   Scope: Abstraction is about defining an interface or contract, while encapsulation is about bundling data and methods within a single unit.\n",
        "*  Level of detail: Abstraction deals with a higher level of detail, focusing on the essential features and behavior of an object. Encapsulation deals with a lower level of detail, focusing on the internal implementation and data protection\n",
        "\n",
        "\n",
        "\n",
        "\n",
        "\n",
        "\n",
        "\n",
        "\n",
        "\n",
        "\n",
        "\n",
        "\n",
        "\n",
        "\n",
        "\n",
        "\n",
        "\n",
        "\n",
        "\n",
        "\n",
        "\n",
        "\n"
      ],
      "metadata": {
        "id": "F-4AQIUJVQ4a"
      }
    },
    {
      "cell_type": "markdown",
      "source": [
        "5. What are dunder methods in Python ?\n",
        "\n",
        "-> In Python, \"dunder\" methods are special methods that are surrounded by double underscores (i.e., __) on either side of the method name. These methods are also known as \"magic methods\" or \"special methods.\"\n",
        "\n",
        "Dunder methods are used to customize the behavior of objects in Python, such as how they are initialized, compared, or converted to other data types. They are typically used to override the default behavior of Python's built-in types, such as lists, dictionaries, or strings.\n",
        "\n",
        "-> Some examples are:\n",
        "\n",
        "*  __ init __: This method is called when an object is created from a class. It is used to initialize the attributes of the class.\n",
        "*   __ str __: This method returns a string representation of an object. It is called when the str() or print() function is used on an object.\n",
        "\n"
      ],
      "metadata": {
        "id": "nM0h_gYVHvMx"
      }
    },
    {
      "cell_type": "markdown",
      "source": [
        "6. Explain the concept of inheritance in OOP.\n",
        "\n",
        "-> Inheritance is a fundamental concept in Object-Oriented Programming (OOP) that allows one class to inherit the properties and behavior of another class. The class that is being inherited from is called the parent or superclass, while the class that is doing the inheriting is called the child or subclass.\n",
        "\n",
        "-> KEY ASPECTS OF INHERITANCE :-  \n",
        "\n",
        "\n",
        "*   Code reuse: Inheritance allows for code reuse by enabling a child class to inherit the properties and behavior of a parent class.\n",
        "\n",
        "*  Hierarchical relationships: Inheritance creates a hierarchical relationship between classes, where a child class is a specialized version of a parent class.\n",
        "*  Inheritance of properties and behavior: A child class inherits all the properties (data members) and behavior (methods) of a parent class.\n",
        "\n",
        "-> TYPES OF INHERITANCE :-  \n",
        "\n",
        "*  Single inheritance: A child class inherits from a single parent class.\n",
        "\n",
        "* Multiple inheritance: A child class inherits from multiple parent classes.\n",
        "*  Multilevel inheritance: A child class inherits from a parent class, which in turn inherits from another parent class.\n",
        "*  Hybrid inheritance: A combination of multiple inheritance and multilevel inheritance.\n",
        "\n",
        "-> BENEFITS OF INHERITANCE:-  \n",
        "\n",
        "*   Reduced code duplication: Inheritance eliminates the need to duplicate code in multiple classes.\n",
        "\n",
        "*  Improved code organization: Inheritance helps organize code into a hierarchical structure, making it easier to understand and maintain.\n",
        "*  Easier modification and extension: Inheritance makes it easier to modify or extend the behavior of a parent class without affecting child classes.\n",
        "\n",
        "\n",
        "\n",
        "\n",
        "\n",
        "\n",
        "\n",
        "\n",
        "\n",
        "\n",
        "\n",
        "\n",
        "\n",
        "\n",
        "\n",
        "\n"
      ],
      "metadata": {
        "id": "7X8fgmBsIq8X"
      }
    },
    {
      "cell_type": "markdown",
      "source": [
        "7. What is polymorphism in OOP?\n",
        "-> Polymorphism is a fundamental concept in Object-Oriented Programming (OOP) that allows objects of different classes to be treated as objects of a common superclass. In other words, polymorphism enables to write code that can work with different data types, without knowing the specific type at compile time.\n",
        "\n",
        "-> Key aspects of polymorphism:\n",
        "\n",
        "*   Method overriding: A subclass provides a different implementation of a method that is already defined in its superclass.\n",
        "\n",
        "*   Method overloading: Multiple methods with the same name can be defined, but with different parameter lists.\n",
        "*   Operator overloading: Operators such as +, -, *, / can be redefined for user-defined data types.\n",
        "\n",
        "\n",
        "*  Function polymorphism: A function can take arguments of different types and behave differently depending on the type of argument.\n",
        "\n",
        "-> Benefits of polymorphism:\n",
        "\n",
        "*   Increased flexibility: Polymorphism allows you to write code that can work with different data types.\n",
        "\n",
        "*  Improved modularity: Polymorphism enables you to write more modular code, where each module can be developed independently.\n",
        "*   Easier maintenance: Polymorphism makes it easier to modify or extend existing code, without affecting other parts of the program.\n",
        "\n",
        "\n",
        "\n",
        "\n",
        "\n",
        "\n",
        "\n"
      ],
      "metadata": {
        "id": "QLx5fg0HIHBT"
      }
    },
    {
      "cell_type": "markdown",
      "source": [
        "8. How is encapsulation achieved in Python ?\n",
        "\n",
        "->Encapsulation in Python is achieved by using access modifiers to limit access to a class's variables and methods. This is done by bundling the data and methods into a single unit, or class.\n",
        "\n",
        "-> Some ways encapsulation is implemented in Python:\n",
        "\n",
        " - Access modifiers: These are used to control access to the class's variables and methods.\n",
        " - Private: These variables and methods are not accessible from outside the class.\n",
        " - Protected: These variables and methods are not accessible from outside the class.\n",
        " - Public: These variables and methods are accessible from outside the class."
      ],
      "metadata": {
        "id": "u6SE78WnJV0M"
      }
    },
    {
      "cell_type": "markdown",
      "source": [
        "9. What is a constructor in Python ?\n",
        "\n",
        "-> In Python, a constructor is a special method that is automatically called when an object of a class is created. It is used to initialize the attributes of the class and is typically used to set the initial state of the object.\n",
        "\n",
        "In Python, the constructor method is named __ init __ and is defined inside the class definition. The __ init __ method is called when an object of the class is created using the () operator.\n",
        "\n",
        "The __ init __ method can take arguments, which are used to initialize the attributes of the class. The first argument is always the self parameter, which refers to the object being created."
      ],
      "metadata": {
        "id": "LNSQlqfBKKvL"
      }
    },
    {
      "cell_type": "markdown",
      "source": [
        "10. What are class and static methods in Python ?\n",
        "\n",
        "-> In Python, class methods and static methods are two types of methods that can be defined inside a class. They are different from instance methods, which are the most common type of method in Python.\n",
        "\n",
        "-> Class Methods :     \n",
        "\n",
        "-> A class method is a method that is bound to the class rather than the instance of the class. It can access or modify the class state, i.e., the class variables. Class methods are defined using the @classmethod decorator.\n",
        "\n",
        "-> Static Methods :     \n",
        "\n",
        "-> A static method is a method that belongs to a class rather than an instance of the class. Static methods do not have access to the class state or instance state. Static methods are defined using the @staticmethod decorator.\n"
      ],
      "metadata": {
        "id": "7BymBKldKxKz"
      }
    },
    {
      "cell_type": "markdown",
      "source": [
        "11. What is method overloading in Python ?\n",
        "\n",
        "-> Method overloading is a feature in some programming languages that allows multiple methods with the same name to be defined, but with different parameter lists. This means that a class can have multiple methods with the same name, but each method can have a different number or type of parameters.\n",
        "\n",
        "However, Python does not support method overloading in the classical sense. In Python,  defining multiple methods with the same name, the last definition will override all previous definitions.\n"
      ],
      "metadata": {
        "id": "SetxuQyRL8hm"
      }
    },
    {
      "cell_type": "markdown",
      "source": [
        "12. What is method overriding in OOP ?\n",
        "-> Method overriding is a fundamental concept in Object-Oriented Programming (OOP) that allows a subclass to provide a different implementation of a method that is already defined in its superclass. The method in the subclass has the same name, return type, and parameter list as the method in the superclass, but it can have a different implementation.\n",
        "\n",
        "-> Here are the key characteristics of method overriding:  \n",
        "-  Same method name: The method in the subclass has the same name as the method in the superclass.\n",
        "-  Same return type: The method in the subclass has the same return type as the method in the superclass.\n",
        "-  Same parameter list: The method in the subclass has the same parameter list as the method in the superclass.\n",
        "-  Different implementation: The method in the subclass can have a different implementation than the method in the superclass.\n",
        "\n",
        "-> Method overriding is used to:  \n",
        "-  Provide a specific implementation: A subclass can provide a specific implementation of a method that is already defined in its superclass.\n",
        "-  Override the default behavior: A subclass can override the default behavior of a method in its superclass.\n",
        "-  Add new functionality: A subclass can add new functionality to a method in its superclass."
      ],
      "metadata": {
        "id": "a3XQiD4uQTFL"
      }
    },
    {
      "cell_type": "markdown",
      "source": [
        "13. What is a property decorator in Python ?\n",
        "\n",
        "-> In Python, a property decorator is a special type of decorator that allows you to customize access to an instance attribute. It provides a way to implement getters, setters, and deleters for an attribute, which can help to encapsulate data and improve code readability.\n",
        "\n",
        "A property decorator is defined using the @property decorator, followed by a method that defines the getter for the attribute. The method should take self as its only argument and return the value of the attribute.\n"
      ],
      "metadata": {
        "id": "cBzYl7pVRMkz"
      }
    },
    {
      "cell_type": "markdown",
      "source": [
        "14. Why is polymorphism important in OOP ?\n",
        "-> Polymorphism is an important feature of object-oriented programming (OOP) because it allows programmers to write more efficient code that is easier to maintain and extend. Polymorphism can be implemented through inheritance, which is a technique that allows classes to inherit data and functions from other classes.\n",
        "\n",
        "-> Benefits of polymorphism :     \n",
        "- Code reusability: Polymorphism allows programmers to reuse code, which saves time and reduces redundancy.\n",
        "- Code readability: Polymorphism allows programmers to use the same name for functions that have different arguments, which can improve code readability.\n",
        "- Code extensibility: Polymorphism allows programmers to create new classes that inherit from existing classes, which makes it easier to extend programs.\n",
        "- Code maintainability: Polymorphism allows programmers to make changes to specific parts of a program without affecting the entire program.\n",
        "- Error handling: Polymorphism can help improve error handling.\n",
        "- Code debugging: Polymorphism can make it easier to debug code.\n"
      ],
      "metadata": {
        "id": "P3VJ0JtBZaY3"
      }
    },
    {
      "cell_type": "markdown",
      "source": [
        "15. What is an abstract class in Python ?\n",
        "\n",
        "-> An abstract class in Python is a class that can't be instantiated on its own, but is used as a blueprint for other classes. Abstract classes are created using the abc (Abstract Base Classes) module.    \n",
        "\n",
        "->Features of abstract classes\n",
        "\n",
        "- Abstract methods: Abstract classes can contain methods that are declared but don't have an implementation. Subclasses must provide implementations for these abstract methods.\n",
        "- Abstract properties: Abstract classes can specify properties that subclasses must implement.\n",
        "- Enforce a common structure: Abstract classes allow developers to enforce a common structure for derived classes."
      ],
      "metadata": {
        "id": "vtzDjK1yaE-G"
      }
    },
    {
      "cell_type": "markdown",
      "source": [
        "16. What are the advantages of OOP ?\n",
        "\n",
        "-> Object-oriented programming (OOP) has many advantages, including:\n",
        "\n",
        "- Modularity: OOP organizes code into self-contained units that are easier to troubleshoot and maintain.\n",
        "- Reusability: Code can be reused through inheritance, saving time and reducing development costs.\n",
        "- Security: Encapsulation protects data and makes code more secure.\n",
        "- Flexibility: Polymorphism allows a single function to adapt to different classes and objects.\n",
        "- Scalability: OOP makes it easy to add new features and scale systems.\n",
        "- Collaboration: OOP allows developers to work together on different parts of a system.\n",
        "- Problem-solving: OOP helps developers break down complex problems into smaller, more manageable pieces.\n",
        "- Abstraction: OOP simplifies complex systems by hiding implementation details and defining classes by their essential characteristics.\n",
        "- Efficiency: OOP improves code efficiency and maintainability."
      ],
      "metadata": {
        "id": "imuyl4CUayEd"
      }
    },
    {
      "cell_type": "markdown",
      "source": [
        "17. What is the difference between a class variable and an instance variable ?\n",
        "\n",
        "-> In object-oriented programming, a class variable is shared by all instances of a class, while an instance variable is unique to each instance.   \n",
        "\n",
        "-> Use cases :   \n",
        "\n",
        "- Class variables: Used to share data between all instances of a class, such as a constant value or the number of instances created\n",
        "- Instance variables : Used to store data that is specific to each instance, such as a person's name or age\n",
        "\n",
        "-> Scope :     \n",
        "\n",
        "- Class variables: Accessible by all methods in the class, and sometimes outside the class depending on its access modifier\n",
        "- Instance variables: Accessible within the class definition"
      ],
      "metadata": {
        "id": "ftx8hlMZbUWE"
      }
    },
    {
      "cell_type": "markdown",
      "source": [
        "18.  What is multiple inheritance in Python ?\n",
        "\n",
        "-> Multiple inheritance in Python is when a class inherits properties from more than one parent class. This is useful when a subclass needs to combine features from multiple contracts.\n",
        "\n",
        "-> Example :    \n",
        "- A class Dog can be derived from the superclasses Mammal and Animal."
      ],
      "metadata": {
        "id": "oDpchHUvcwK-"
      }
    },
    {
      "cell_type": "markdown",
      "source": [
        "19. Explain the purpose of ‘’__ str__’ and ‘__ repr __’ ‘ methods in Python  \n",
        "-> In Python, the __ str __ method is used to provide a human-readable string representation of an object, typically for user-facing output like printing, while __ repr __ aims to provide a more detailed, unambiguous representation, primarily used for debugging and development purposes, where the goal is to potentially recreate the object from the string representation.\n",
        "\n",
        "-> Key differences:   \n",
        "\n",
        "-> Readability:\n",
        "\n",
        "__ str __ should prioritize readability for users, presenting information in a clear and concise way, while __repr__ can be more technical and include extra details to facilitate object reconstruction.\n",
        "\n",
        "-> When called:\n",
        "\n",
        "-> The __ str __ method is invoked when you use the str() function on an object or when printing it directly with print(). __ repr __ is called when using the repr() function."
      ],
      "metadata": {
        "id": "-XCPKn3iee6_"
      }
    },
    {
      "cell_type": "markdown",
      "source": [
        "20. What is the significance of the ‘super()’ function in Python ?\n",
        "\n",
        "-> In Python, the super() function is used to access the methods and properties of a parent class (also known as a superclass) from a child class (also known as a subclass). The super() function returns a proxy object that allows  to call methods and access properties of the parent class.\n",
        "\n",
        "-> The significance of the super() function is as follows:\n",
        "\n",
        "- Accessing parent class methods: The super() function allows  to call methods of the parent class from the child class, even if the child class has overridden the method.\n",
        "-  Avoiding name conflicts: When a child class overrides a method of the parent class, using super() helps avoid name conflicts by allowing  to call the parent class method explicitly.\n",
        "-  Implementing cooperative inheritance: super() enables cooperative inheritance, where a child class can call the parent class method and then add its own implementation.\n",
        "- Supporting multiple inheritance: In Python, super() is essential for supporting multiple inheritance, where a child class can inherit from multiple parent classes.\n",
        "\n"
      ],
      "metadata": {
        "id": "1tTB3EHcg_a0"
      }
    },
    {
      "cell_type": "markdown",
      "source": [
        "21. What is the significance of the __del__ method in Python ?\n",
        "\n",
        "-> In Python, the __ del __ method, also known as the destructor, is a special method that is automatically called when an object is about to be destroyed. This method is typically used to release resources, such as memory, file handles, or network connections, that were allocated by the object.\n",
        "\n",
        "-> The significance of the __ del __ method is as follows:\n",
        "\n",
        "- Resource deallocation: The __ del __ method provides a way to release resources that were allocated by the object, helping to prevent memory leaks and other resource-related issues.\n",
        "- Cleanup operations: The __ del __ method can be used to perform cleanup operations, such as closing files, network connections, or database connections, when the object is no longer needed.\n",
        "- Finalization: The __ del __ method provides a way to perform finalization operations, such as logging, auditing, or notification, when the object is about to be destroyed.\n",
        "- Debugging and testing: The __ del __ method can be used to detect and debug issues related to object destruction, such as memory leaks or resource leaks.\n"
      ],
      "metadata": {
        "id": "VkPGPKZFiAXm"
      }
    },
    {
      "cell_type": "markdown",
      "source": [
        "22. What is the difference between @staticmethod and @classmethod in Python ?\n",
        "\n",
        "-> In Python, the difference between @classmethod and @staticmethod is that @classmethod takes the class as an argument, while @staticmethod does not.\n",
        "\n",
        "-> @classmethod:\n",
        "\n",
        "- Takes the class as the first parameter, cls  \n",
        "- Can access and modify the class state  \n",
        "- Can be used to create objects of the class in a different way  \n",
        "- Can be used as a factory function to create new objects\n",
        "\n",
        "-> @staticmethod:  \n",
        "\n",
        "- Does not take any specific parameters\n",
        "- Cannot access or modify the class state\n",
        "- Can be used to define utility functions within the class's scope\n",
        "- Behaves like a regular function, but is included in a class because it has a logical connection to the class\n"
      ],
      "metadata": {
        "id": "ek9gI3C0ip02"
      }
    },
    {
      "cell_type": "markdown",
      "source": [
        "23. How does polymorphism work in Python with inheritance ?\n",
        "\n",
        "-> Polymorphism is a fundamental concept in object-oriented programming (OOP) that allows objects of different classes to be treated as objects of a common superclass. In Python, polymorphism works seamlessly with inheritance, enabling  to write more flexible and generic code.\n",
        "\n",
        "-> A step-by-step explanation of how polymorphism works in Python with inheritance:\n",
        "\n",
        "- Define a superclass: Create a superclass that defines the common attributes and methods that will be shared by its subclasses.\n",
        "- Create subclasses: Create one or more subclasses that inherit from the superclass. Each subclass can add new attributes and methods or override the ones inherited from the superclass.\n",
        "- Override methods: In the subclasses, override the methods inherited from the superclass to provide specific implementations. This is where polymorphism comes into play.\n",
        "- Use the superclass as a reference: When you want to use an object of a subclass, use the superclass as a reference. This allows you to treat objects of different classes as if they were of the same class.\n",
        "- Python's method resolution order: When you call a method on an object, Python uses a method resolution order (MRO) to determine which method to call. The MRO is based on the inheritance hierarchy, with the subclass's methods taking precedence over the superclass's methods.\n"
      ],
      "metadata": {
        "id": "0hk4XgzQkJkG"
      }
    },
    {
      "cell_type": "markdown",
      "source": [
        "24. What is method chaining in Python OOP ?\n",
        "-> In Python object-oriented programming (OOP), \"method chaining\" is a technique where you call multiple methods on the same object consecutively in a single line of code, with each method returning the object itself, allowing you to chain further operations on the modified object without needing to store intermediate results in separate variables, resulting in more concise and readable code.\n",
        "\n",
        "-> Key points about method chaining:\n",
        "\n",
        " -  Returning self: The key to method chaining is that each method within the chain returns the object instance (self) after performing its operation, enabling the next method to be called on the same object.\n",
        " - Improved readability: By chaining methods together, you can write code that looks more like a natural language description of the operations being performed on an object."
      ],
      "metadata": {
        "id": "Kug4o-Sbk8pO"
      }
    },
    {
      "cell_type": "markdown",
      "source": [
        "25. What is the purpose of the __ call __ method in Python?\n",
        "\n",
        "->  In Python, the __ call __ method is a special method that allows an object to be called as a function. This means that an object that defines __ call __ can be invoked using the function call syntax, i.e., obj().\n",
        "\n",
        "-> The purpose of the __ call __ method is to enable objects to behave like functions, allowing for more flexibility and expressiveness in programming. Here are some use cases where __ call __ is particularly useful:\n",
        "\n",
        "- Function objects: By defining __ call __, an object can be used as a function, making it easier to pass objects around as first-class citizens.\n",
        "- Closures: __ call __ enables objects to capture their own state and behavior, similar to closures in functional programming.\n",
        "- Decorators: The __ call __ method is used extensively in decorator implementations, allowing decorators to be applied to functions and methods.\n",
        "-Functors: In functional programming, functors are objects that can be mapped over. __ call __ enables objects to behave like functors.\n",
        "-. Domain-specific languages (DSLs): By defining __ call __, objects can be used to create DSLs, making it easier to express domain-specific concepts and behaviors."
      ],
      "metadata": {
        "id": "1p1Fa3_JwPSE"
      }
    },
    {
      "cell_type": "markdown",
      "source": [
        "PRACTICAL QUESTIONS"
      ],
      "metadata": {
        "id": "ASZs0GkoxN-Y"
      }
    },
    {
      "cell_type": "markdown",
      "source": [
        "1.  Create a parent class Animal with a method speak() that prints a generic message. Create a child class Dog\n",
        "that overrides the speak() method to print \"Bark!\"."
      ],
      "metadata": {
        "id": "zguin-kmxYGk"
      }
    },
    {
      "cell_type": "code",
      "source": [
        "class Animal:\n",
        "    def speak(self):\n",
        "        print(\"The Animal makes a sound\")\n",
        "\n",
        "class Dog(Animal):\n",
        "    def speak(self):\n",
        "        print(\"Bark!\")\n",
        "\n",
        "\n",
        "dog = Dog()\n",
        "dog.speak()"
      ],
      "metadata": {
        "colab": {
          "base_uri": "https://localhost:8080/"
        },
        "id": "EvksaWhZRLqo",
        "outputId": "64322a5f-bd5b-41d1-d282-ca8dffc5cfa2"
      },
      "execution_count": null,
      "outputs": [
        {
          "output_type": "stream",
          "name": "stdout",
          "text": [
            "Bark!\n"
          ]
        }
      ]
    },
    {
      "cell_type": "markdown",
      "source": [
        "2. Write a program to create an abstract class Shape with a method area(). Derive classes Circle and Rectangle\n",
        "from it and implement the area() method in both."
      ],
      "metadata": {
        "id": "L7JZhRuk0rP9"
      }
    },
    {
      "cell_type": "code",
      "source": [
        "from abc import ABC,abstractmethod\n",
        "import math\n",
        "class Shape(ABC):\n",
        "    @abstractmethod\n",
        "    def area(self):\n",
        "        pass\n",
        "\n",
        "class Circle(Shape):\n",
        "    def __init__(self,radius):\n",
        "        self.radius = radius\n",
        "\n",
        "    def area(self):\n",
        "        return f\"The area of the circle is {round(math.pi * self.radius ** 2)}\"\n",
        "\n",
        "class Rectangle(Shape):\n",
        "    def __init__(self,length,breadth):\n",
        "        self.length = length\n",
        "        self.breadth = breadth\n",
        "\n",
        "    def area(self):\n",
        "        return f\"The area of the rectangle is {round(self.length * self.breadth)}\"\n",
        "\n",
        "circle = Circle(8)\n",
        "rectangle = Rectangle(4.56,5)\n",
        "print(circle.area())\n",
        "print(rectangle.area())"
      ],
      "metadata": {
        "colab": {
          "base_uri": "https://localhost:8080/"
        },
        "id": "ThpxGbFb0vA-",
        "outputId": "c0c813e0-c9af-44ba-e62c-39345aa3c389"
      },
      "execution_count": null,
      "outputs": [
        {
          "output_type": "stream",
          "name": "stdout",
          "text": [
            "The area of the circle is 201\n",
            "The area of the rectangle is 23\n"
          ]
        }
      ]
    },
    {
      "cell_type": "markdown",
      "source": [
        "3.  Implement a multi-level inheritance scenario where a class Vehicle has an attribute type. Derive a class Car\n",
        "and further derive a class ElectricCar that adds a battery attribute"
      ],
      "metadata": {
        "id": "fMisyJVV8iJb"
      }
    },
    {
      "cell_type": "code",
      "source": [
        "class Vehicle:\n",
        "    def __init__(self,type):\n",
        "        self.type = type\n",
        "\n",
        "    def description(self):\n",
        "        print(f\"the type of vehicle is a {self.type}\")\n",
        "\n",
        "class Car(Vehicle):\n",
        "    def __init__(self,type,brand):\n",
        "        super().__init__(type)\n",
        "        self.brand = brand\n",
        "\n",
        "    def description(self):\n",
        "        super().description()\n",
        "        print(f\"its a {self.brand} car\")\n",
        "\n",
        "class ElectricCar(Car):\n",
        "    def __init__(self, type, brand,battery):\n",
        "        super().__init__(type, brand)\n",
        "        self.battery = battery\n",
        "\n",
        "    def description(self):\n",
        "        super().description()\n",
        "        print(f\"the battery capacity is of {self.battery} Kwh\")\n",
        "\n",
        "\n",
        "vehicle= ElectricCar(\"car\",\"Audi\",78)\n",
        "vehicle.description()"
      ],
      "metadata": {
        "id": "tNq14Pxa8mMi",
        "colab": {
          "base_uri": "https://localhost:8080/"
        },
        "outputId": "5024e198-d76b-4086-a15c-48695ee34af4"
      },
      "execution_count": null,
      "outputs": [
        {
          "output_type": "stream",
          "name": "stdout",
          "text": [
            "the type of vehicle is a car\n",
            "its a Audi car\n",
            "the battery capacity is of 78 Kwh\n"
          ]
        }
      ]
    },
    {
      "cell_type": "markdown",
      "source": [
        "4.  Demonstrate polymorphism by creating a base class Bird with a method fly(). Create two derived classes\n",
        "Sparrow and Penguin that override the fly() method.\n"
      ],
      "metadata": {
        "id": "_Kc_uDfNacDw"
      }
    },
    {
      "cell_type": "code",
      "source": [
        "\n",
        "class Bird:\n",
        "    def fly(self):\n",
        "        return \"birds are fyling creatures\"\n",
        "\n",
        "class Sparrow(Bird):\n",
        "    def fly(self):\n",
        "        return \"Sparrows are flying creatures\"\n",
        "\n",
        "class Penguin(Bird):\n",
        "    def fly(self):\n",
        "        return \"All birds can fly except Penguin\"\n",
        "\n",
        "\n",
        "bird = Bird()\n",
        "sparrow = Sparrow()\n",
        "penguin = Penguin()\n",
        "print(bird.fly())\n",
        "print(sparrow.fly())\n",
        "print(penguin.fly())"
      ],
      "metadata": {
        "id": "vl8ifgyHnxiN",
        "colab": {
          "base_uri": "https://localhost:8080/"
        },
        "outputId": "2f6e2ca2-b966-464b-e75d-59f381e30d8d"
      },
      "execution_count": 1,
      "outputs": [
        {
          "output_type": "stream",
          "name": "stdout",
          "text": [
            "birds are fyling creatures\n",
            "Sparrows are flying creatures\n",
            "All birds can fly except Penguin\n"
          ]
        }
      ]
    },
    {
      "cell_type": "markdown",
      "source": [
        "5. Write a program to demonstrate encapsulation by creating a class BankAccount with private attributes\n",
        "balance and methods to deposit, withdraw, and check balance."
      ],
      "metadata": {
        "id": "tzIveLyK3nyg"
      }
    },
    {
      "cell_type": "code",
      "source": [
        "class BankAccount:\n",
        "\n",
        "    def __init__(self,balance):\n",
        "        self.__balance = balance\n",
        "\n",
        "    def deposit(self, amount):\n",
        "        self.__balance += amount\n",
        "        print(f\"your bank balance after deposition is {self.__balance}\")\n",
        "\n",
        "    def withdraw(self,amount):\n",
        "        if amount >= self.__balance:\n",
        "            print(\"withdrawal can't be possible\")\n",
        "        else:\n",
        "            self.__balance -= amount\n",
        "            print(f\"the total amount left in bank account after withdrawal is {self.__balance}\")\n",
        "\n",
        "    def check_balance(self):\n",
        "        print(f\"your total bank balance is {self.__balance}\")\n",
        "\n",
        "b = BankAccount(5000)\n",
        "b.check_balance()\n",
        "b.deposit(2000)\n",
        "b.withdraw(6000)"
      ],
      "metadata": {
        "colab": {
          "base_uri": "https://localhost:8080/"
        },
        "id": "bCBYs1Zr3rOG",
        "outputId": "3d47e5cc-b689-4f75-aead-fcf0b0c0c8af"
      },
      "execution_count": 2,
      "outputs": [
        {
          "output_type": "stream",
          "name": "stdout",
          "text": [
            "your total bank balance is 5000\n",
            "your bank balance after deposition is 7000\n",
            "the total amount left in bank account after withdrawal is 1000\n"
          ]
        }
      ]
    },
    {
      "cell_type": "markdown",
      "source": [
        "6. Demonstrate runtime polymorphism using a method play() in a base class Instrument. Derive classes Guitar\n",
        "and Piano that implement their own version of play()."
      ],
      "metadata": {
        "id": "GzGxjGHx3yK2"
      }
    },
    {
      "cell_type": "code",
      "source": [
        "class Instrument:\n",
        "    def play(self):\n",
        "        return \"Every musical instrument has its own specific sound and feature\"\n",
        "\n",
        "class Guitar(Instrument):\n",
        "    def play(self):\n",
        "        return \" A Guitar is a 6 string instrument \"\n",
        "\n",
        "class Piano(Instrument):\n",
        "    def play(self):\n",
        "        return \"A Piano is widely used for learning to sing\"\n",
        "\n",
        "instrument = Instrument()\n",
        "guitar = Guitar()\n",
        "piano = Piano()\n",
        "print(instrument.play())\n",
        "print(guitar.play())\n",
        "print(piano.play())"
      ],
      "metadata": {
        "colab": {
          "base_uri": "https://localhost:8080/"
        },
        "id": "Jw66jkSX30yN",
        "outputId": "c74fdd4f-be11-4720-aacf-c70f7539219f"
      },
      "execution_count": 3,
      "outputs": [
        {
          "output_type": "stream",
          "name": "stdout",
          "text": [
            "Every musical instrument has its own specific sound and feature\n",
            " A Guitar is a 6 string instrument \n",
            "A Piano is widely used for learning to sing\n"
          ]
        }
      ]
    },
    {
      "cell_type": "markdown",
      "source": [
        "7. Create a class MathOperations with a class method add_numbers() to add two numbers and a static\n",
        "method subtract_numbers() to subtract two numbers."
      ],
      "metadata": {
        "id": "0zxUjnMV368m"
      }
    },
    {
      "cell_type": "code",
      "source": [
        "class MathOperations:\n",
        "\n",
        "    @classmethod\n",
        "    def add_numbers(cls,a,b):\n",
        "        return a +b\n",
        "\n",
        "    @staticmethod\n",
        "    def subtract_numbers(a,b):\n",
        "        return a - b\n",
        "\n",
        "print(MathOperations.add_numbers(9,1))\n",
        "print(MathOperations.subtract_numbers(9,1))"
      ],
      "metadata": {
        "colab": {
          "base_uri": "https://localhost:8080/"
        },
        "id": "2lKIBnFU39x6",
        "outputId": "a389e343-56aa-4084-c379-fa74bacd8485"
      },
      "execution_count": 5,
      "outputs": [
        {
          "output_type": "stream",
          "name": "stdout",
          "text": [
            "10\n",
            "8\n"
          ]
        }
      ]
    },
    {
      "cell_type": "markdown",
      "source": [
        "8. Implement a class Person with a class method to count the total number of persons created."
      ],
      "metadata": {
        "id": "45NR6dCl4KEV"
      }
    },
    {
      "cell_type": "code",
      "source": [
        "\n",
        "class Person:\n",
        "    count = 0\n",
        "\n",
        "    def __init__(self,name):\n",
        "        self.name = name\n",
        "        Person.count +=1\n",
        "\n",
        "    @classmethod\n",
        "    def num_of_persons(cls):\n",
        "        return cls.count\n",
        "\n",
        "per1 = Person('meghna')\n",
        "per2 = Person('akash')\n",
        "\n",
        "print(Person.num_of_persons())"
      ],
      "metadata": {
        "colab": {
          "base_uri": "https://localhost:8080/"
        },
        "id": "MWtCKPei4MOb",
        "outputId": "dd6f770d-a1ea-4924-83a5-13e52285ed0e"
      },
      "execution_count": 6,
      "outputs": [
        {
          "output_type": "stream",
          "name": "stdout",
          "text": [
            "2\n"
          ]
        }
      ]
    },
    {
      "cell_type": "markdown",
      "source": [
        " 9. Write a class Fraction with attributes numerator and denominator. Override the str method to display the\n",
        "fraction as \"numerator/denominator\"."
      ],
      "metadata": {
        "id": "3SBGnZ3l4Rru"
      }
    },
    {
      "cell_type": "code",
      "source": [
        "class Fraction:\n",
        "    def __init__(self,numerator,denominator):\n",
        "        if not isinstance(numerator,int) or not isinstance(denominator,int):\n",
        "            raise TypeError(\"Numerators and Denominators must be integers\")\n",
        "        if denominator == 0:\n",
        "            raise ValueError(\"Denominator cant be zero\")\n",
        "        self.numerator = numerator\n",
        "        self.denominator = denominator\n",
        "\n",
        "\n",
        "    def __str__(self):\n",
        "        return f\"{self.numerator}/{self.denominator} \"\n",
        "try:\n",
        "    fraction = Fraction(99,9)\n",
        "    print(fraction)\n",
        "except TypeError and ValueError as e:\n",
        "    print(e)"
      ],
      "metadata": {
        "colab": {
          "base_uri": "https://localhost:8080/"
        },
        "id": "pZUhdYy24Wlu",
        "outputId": "28b2a14d-0203-4061-8dcb-617e305ca92b"
      },
      "execution_count": 7,
      "outputs": [
        {
          "output_type": "stream",
          "name": "stdout",
          "text": [
            "99/9 \n"
          ]
        }
      ]
    },
    {
      "cell_type": "markdown",
      "source": [
        "10. Demonstrate operator overloading by creating a class Vector and overriding the add method to add two\n",
        "vectors."
      ],
      "metadata": {
        "id": "RliFD9T34bC3"
      }
    },
    {
      "cell_type": "code",
      "source": [
        "class Vector:\n",
        "\n",
        "    def __init__(self,x,y):\n",
        "        self.x = x\n",
        "        self.y = y\n",
        "\n",
        "    def __add__(self,other):\n",
        "        return Vector(self.x + other.x, self.y + other.y)\n",
        "\n",
        "    def __str__(self):\n",
        "        return f\"({self.x},{self.y})\"\n",
        "\n",
        "v1 = Vector(2,3)\n",
        "v2 = Vector(4,5)\n",
        "v3 = v1 + v2\n",
        "print(v3)"
      ],
      "metadata": {
        "colab": {
          "base_uri": "https://localhost:8080/"
        },
        "id": "io89Ry674dl_",
        "outputId": "d29e73c9-fb2d-408c-ff09-c18ce1c0cd48"
      },
      "execution_count": 8,
      "outputs": [
        {
          "output_type": "stream",
          "name": "stdout",
          "text": [
            "(6,8)\n"
          ]
        }
      ]
    },
    {
      "cell_type": "markdown",
      "source": [
        "11. Create a class Person with attributes name and age. Add a method greet() that prints \"Hello, my name is\n",
        "{name} and I am {age} years old.\""
      ],
      "metadata": {
        "id": "UfEM7fVo4iV2"
      }
    },
    {
      "cell_type": "code",
      "source": [
        "\n",
        "class Person:\n",
        "    def __init__(self,name,age):\n",
        "        self.name = name\n",
        "        self.age = age\n",
        "\n",
        "    def greet(self):\n",
        "        print(f\"Hello, my name is {self.name} and I am {self.age} years old.\")\n",
        "\n",
        "person = Person('shreya',20)\n",
        "person.greet()"
      ],
      "metadata": {
        "colab": {
          "base_uri": "https://localhost:8080/"
        },
        "id": "bBRO-BMO4mPi",
        "outputId": "757b8f76-a896-4f28-80d1-bba9c10990c7"
      },
      "execution_count": 9,
      "outputs": [
        {
          "output_type": "stream",
          "name": "stdout",
          "text": [
            "Hello, my name is shreya and I am 20 years old.\n"
          ]
        }
      ]
    },
    {
      "cell_type": "markdown",
      "source": [
        "12. Implement a class Student with attributes name and grades. Create a method average_grade() to compute\n",
        "the average of the grades."
      ],
      "metadata": {
        "id": "c9JzTHkS4r72"
      }
    },
    {
      "cell_type": "code",
      "source": [
        "class Student:\n",
        "    def __init__(self,name,grades):\n",
        "        self.name = name\n",
        "        self.grades = grades\n",
        "\n",
        "    def average_grade(self):\n",
        "        return sum(self.grades) / len(self.grades)\n",
        "\n",
        "    def __str__(self):\n",
        "        return f\"{self.name}'s average grade is:- {self.average_grade()}\"\n",
        "\n",
        "student = Student('Rahul',[80,70,48,66,91,62])\n",
        "print(student)"
      ],
      "metadata": {
        "colab": {
          "base_uri": "https://localhost:8080/"
        },
        "id": "UsurEUqL4uOp",
        "outputId": "e164e9e2-581f-4127-df68-656a82df3cd2"
      },
      "execution_count": 11,
      "outputs": [
        {
          "output_type": "stream",
          "name": "stdout",
          "text": [
            "Rahul's average grade is:- 69.5\n"
          ]
        }
      ]
    },
    {
      "cell_type": "markdown",
      "source": [
        "13. Create a class Rectangle with methods set_dimensions() to set the dimensions and area() to calculate the\n",
        "area"
      ],
      "metadata": {
        "id": "3yZJ7lti415Q"
      }
    },
    {
      "cell_type": "code",
      "source": [
        "class Rectangle:\n",
        "\n",
        "    def set_dimensions(self,length,breadth):\n",
        "        self.length = length\n",
        "        self.breadth  = breadth\n",
        "        return f\"length is {self.length} and breadth is {self.breadth}\"\n",
        "\n",
        "    def area(self):\n",
        "        return f\"the area of the rectangle is {self.length * self.breadth}\"\n",
        "\n",
        "rectangle = Rectangle()\n",
        "dimensions = rectangle.set_dimensions(4,8)\n",
        "print(dimensions)\n",
        "area = rectangle.area()\n",
        "print(area)\n"
      ],
      "metadata": {
        "colab": {
          "base_uri": "https://localhost:8080/"
        },
        "id": "45GVMX4T437o",
        "outputId": "085c1623-083e-4b76-80f9-687a4bd386fd"
      },
      "execution_count": 12,
      "outputs": [
        {
          "output_type": "stream",
          "name": "stdout",
          "text": [
            "length is 4 and breadth is 8\n",
            "the area of the rectangle is 32\n"
          ]
        }
      ]
    },
    {
      "cell_type": "markdown",
      "source": [
        "14. Create a class Employee with a method calculate_salary() that computes the salary based on hours worked\n",
        "and hourly rate. Create a derived class Manager that adds a bonus to the salary."
      ],
      "metadata": {
        "id": "st1wWALY479W"
      }
    },
    {
      "cell_type": "code",
      "source": [
        "class Employee:\n",
        "\n",
        "    def __init__(self,salary,hour):\n",
        "        self.salary = salary\n",
        "        self.hour = hour\n",
        "\n",
        "    def calculate_salary(self):\n",
        "        total_salary = self.salary * self.hour\n",
        "        return total_salary\n",
        "\n",
        "    def print_salary(self):\n",
        "        return f\" for 1 hour work, your base salary is RS {self.salary} \\nfor working for {self.hour} hours, salary gets to Rs {self.calculate_salary()}\"\n",
        "\n",
        "\n",
        "class Manager(Employee):\n",
        "\n",
        "    def __init__(self, salary, hour,bonus):\n",
        "        super().__init__(salary, hour)\n",
        "        self.bonus = bonus\n",
        "\n",
        "    def bonus_salary(self):\n",
        "        total_salary = self.calculate_salary() + self.bonus\n",
        "        return f\"After adding a bonus salary for your hardwork, your total salary is of RS {total_salary}\"\n",
        "\n",
        "employee = Employee(25000,3)\n",
        "print(employee.print_salary())\n",
        "\n",
        "manager = Manager(25000,3,15000)\n",
        "print(manager.bonus_salary())\n"
      ],
      "metadata": {
        "colab": {
          "base_uri": "https://localhost:8080/"
        },
        "id": "dLEwFKj_4-Le",
        "outputId": "4d38231f-281f-41d8-d450-823857192e5b"
      },
      "execution_count": 13,
      "outputs": [
        {
          "output_type": "stream",
          "name": "stdout",
          "text": [
            " for 1 hour work, your base salary is RS 25000 \n",
            "for working for 3 hours, salary gets to Rs 75000\n",
            "After adding a bonus salary for your hardwork, your total salary is of RS 90000\n"
          ]
        }
      ]
    },
    {
      "cell_type": "markdown",
      "source": [
        "15. Create a class Product with attributes name, price, and quantity. Implement a method total_price() that\n",
        "calculates the total price of the product."
      ],
      "metadata": {
        "id": "EpAGpTWI5HAA"
      }
    },
    {
      "cell_type": "code",
      "source": [
        "class Product:\n",
        "    def __init__(self,name,price,quantity):\n",
        "        self.name = name\n",
        "        self.price = price\n",
        "        self.quantity = quantity\n",
        "\n",
        "    def total_price(self):\n",
        "        amount = self.price * self.quantity\n",
        "        return amount\n",
        "\n",
        "    def __str__(self):\n",
        "        return f\"For 1KG of {self.name}, the price is RS {self.price}. For {self.quantity} KG, the price is RS {self.total_price()}\"\n",
        "\n",
        "\n",
        "item1 = Product('Rice',30,5)\n",
        "item2 = Product('Wheat',23,8)\n",
        "print(item1)\n",
        "print(item2)"
      ],
      "metadata": {
        "colab": {
          "base_uri": "https://localhost:8080/"
        },
        "id": "_OJT77Pw5Jci",
        "outputId": "f0b9532f-1214-4f12-b929-35a9aad0885e"
      },
      "execution_count": 14,
      "outputs": [
        {
          "output_type": "stream",
          "name": "stdout",
          "text": [
            "For 1KG of Rice, the price is RS 30. For 5 KG, the price is RS 150\n",
            "For 1KG of Wheat, the price is RS 23. For 8 KG, the price is RS 184\n"
          ]
        }
      ]
    },
    {
      "cell_type": "markdown",
      "source": [
        "16. Create a class Animal with an abstract method sound(). Create two derived classes Cow and Sheep that\n",
        "implement the sound() method."
      ],
      "metadata": {
        "id": "F_eXG1O95Qj9"
      }
    },
    {
      "cell_type": "code",
      "source": [
        "from abc import abstractmethod\n",
        "class Animal:\n",
        "\n",
        "    @abstractmethod\n",
        "    def sound(self):\n",
        "        pass\n",
        "\n",
        "class Cow(Animal):\n",
        "    def __init__(self, name):\n",
        "        self.name = name\n",
        "\n",
        "    def sound(self):\n",
        "       return f\"{self.name} has a moww sound\"\n",
        "\n",
        "class Sheep(Animal):\n",
        "    def __init__(self, name):\n",
        "        self.name = name\n",
        "\n",
        "    def sound(self):\n",
        "       return f\"{self.name} has a mehh sound\"\n",
        "\n",
        "\n",
        "cow = Cow('cow')\n",
        "print(cow.sound())\n",
        "\n",
        "sheep = Sheep('sheep')\n",
        "print(sheep.sound())"
      ],
      "metadata": {
        "colab": {
          "base_uri": "https://localhost:8080/"
        },
        "id": "h__8N3-w5S9z",
        "outputId": "7da2cb90-358a-4edc-8d71-6f1d9e8b4760"
      },
      "execution_count": 15,
      "outputs": [
        {
          "output_type": "stream",
          "name": "stdout",
          "text": [
            "cow has a moww sound\n",
            "sheep has a mehh sound\n"
          ]
        }
      ]
    },
    {
      "cell_type": "markdown",
      "source": [
        "17. Create a class Book with attributes title, author, and year_published. Add a method get_book_info() that\n",
        "returns a formatted string with the book's details."
      ],
      "metadata": {
        "id": "y2Ha7X9A5cJF"
      }
    },
    {
      "cell_type": "code",
      "source": [
        "class Book:\n",
        "\n",
        "    def __init__(self,title,author,year_published):\n",
        "        if not isinstance(title,str) or not isinstance(author,str):\n",
        "            raise TypeError(\"title and author must be strings\")\n",
        "        if not isinstance(year_published,int):\n",
        "            raise TypeError(\"year_published should be an integer\")\n",
        "        self.title = title\n",
        "        self.author = author\n",
        "        self.year_published = year_published\n",
        "\n",
        "    def get_book_info(self):\n",
        "        return f\"The title of the book is '{self.title}' which is written by {self.author} and was published in the year {self.year_published}\"\n",
        "\n",
        "try:\n",
        "    book = Book('Atomic Habits','James Clear',2018)\n",
        "    print(book.get_book_info())\n",
        "except TypeError as e:\n",
        "    print(e)\n"
      ],
      "metadata": {
        "colab": {
          "base_uri": "https://localhost:8080/"
        },
        "id": "RfRqQkOA5f4t",
        "outputId": "3d3d61f6-b17b-48de-f9cb-0c17b6d62e9f"
      },
      "execution_count": 16,
      "outputs": [
        {
          "output_type": "stream",
          "name": "stdout",
          "text": [
            "The title of the book is 'Atomic Habits' which is written by James Clear and was published in the year 2018\n"
          ]
        }
      ]
    },
    {
      "cell_type": "markdown",
      "source": [
        "18. Create a class House with attributes address and price. Create a derived class Mansion that adds an\n",
        "attribute number_of_rooms."
      ],
      "metadata": {
        "id": "wW0XSjbY5kb1"
      }
    },
    {
      "cell_type": "code",
      "source": [
        "class House:\n",
        "\n",
        "    def __init__(self,address,price):\n",
        "        self.address = address\n",
        "        self.price = price\n",
        "\n",
        "class Mansion(House):\n",
        "\n",
        "    def __init__(self, address, price,number_of_rooms):\n",
        "        super().__init__(address, price)\n",
        "        self.number_of_rooms  = number_of_rooms\n",
        "\n",
        "    def __str__(self):\n",
        "        return f\"Address of the Mansion is {self.address}.The price is RS {self.price}, with {self.number_of_rooms} rooms in total.\"\n",
        "\n",
        "mansion = Mansion('New Delhi,India',7700000,9)\n",
        "print(mansion)"
      ],
      "metadata": {
        "colab": {
          "base_uri": "https://localhost:8080/"
        },
        "id": "bXgNCrBV5mzK",
        "outputId": "b0c09210-54b1-4a81-8092-5d3b172c4647"
      },
      "execution_count": 17,
      "outputs": [
        {
          "output_type": "stream",
          "name": "stdout",
          "text": [
            "Address of the Mansion is New Delhi,India.The price is RS 7700000, with 9 rooms in total.\n"
          ]
        }
      ]
    }
  ]
}